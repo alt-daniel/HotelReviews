{
 "cells": [
  {
   "cell_type": "code",
   "execution_count": 70,
   "metadata": {},
   "outputs": [
    {
     "name": "stdout",
     "output_type": "stream",
     "text": [
      "                        _id  index                       hotel_name  \\\n",
      "0  5ffd648c6fb44d5f602ea1be      0  \\nTower Suites by Blue Orchid\\n   \n",
      "1  5ffd648c6fb44d5f602ea1bf      1  \\nTower Suites by Blue Orchid\\n   \n",
      "2  5ffd648c6fb44d5f602ea1c0      2  \\nTower Suites by Blue Orchid\\n   \n",
      "3  5ffd648c6fb44d5f602ea1c1      3  \\nTower Suites by Blue Orchid\\n   \n",
      "4  5ffd648c6fb44d5f602ea1c2      4  \\nTower Suites by Blue Orchid\\n   \n",
      "\n",
      "               nation                                             review  \\\n",
      "0        \\n\\nMalaysia         everything absolutely beautiful clean love   \n",
      "1        \\n\\nMalaysia                       couldnt get room comfortable   \n",
      "2  \\n\\nUnited Kingdom  felt clean new lovely staff room really spacio...   \n",
      "3  \\n\\nUnited Kingdom  breakfast nice friendly helpful staff restaura...   \n",
      "4  \\n\\nUnited Kingdom      smoking area floor pay full english breakfast   \n",
      "\n",
      "   is_positive  score  \n",
      "0            1   10.0  \n",
      "1            0   10.0  \n",
      "2            1    9.0  \n",
      "3            1    9.0  \n",
      "4            0    9.0  \n"
     ]
    }
   ],
   "source": [
    "import sys\n",
    "sys.path.append('../')\n",
    "\n",
    "from util.mongodb_util import create_mongodb_connection, mongodb_to_df\n",
    "\n",
    "df_from_db = mongodb_to_df(100000)\n",
    "df = df_from_db.drop(columns=['_id'])\n",
    "print(df_from_db.head())"
   ]
  },
  {
   "cell_type": "code",
   "execution_count": 73,
   "metadata": {},
   "outputs": [
    {
     "name": "stderr",
     "output_type": "stream",
     "text": [
      "/Users/daniel/opt/anaconda3/lib/python3.8/site-packages/distributed/node.py:151: UserWarning: Port 8787 is already in use.\n",
      "Perhaps you already have a cluster running?\n",
      "Hosting the HTTP server on port 51250 instead\n",
      "  warnings.warn(\n"
     ]
    },
    {
     "data": {
      "text/html": [
       "<table style=\"border: 2px solid white;\">\n",
       "<tr>\n",
       "<td style=\"vertical-align: top; border: 0px solid white\">\n",
       "<h3 style=\"text-align: left;\">Client</h3>\n",
       "<ul style=\"text-align: left; list-style: none; margin: 0; padding: 0;\">\n",
       "  <li><b>Scheduler: </b>tcp://127.0.0.1:51251</li>\n",
       "  <li><b>Dashboard: </b><a href='http://127.0.0.1:51250/status' target='_blank'>http://127.0.0.1:51250/status</a></li>\n",
       "</ul>\n",
       "</td>\n",
       "<td style=\"vertical-align: top; border: 0px solid white\">\n",
       "<h3 style=\"text-align: left;\">Cluster</h3>\n",
       "<ul style=\"text-align: left; list-style:none; margin: 0; padding: 0;\">\n",
       "  <li><b>Workers: </b>4</li>\n",
       "  <li><b>Cores: </b>4</li>\n",
       "  <li><b>Memory: </b>8.59 GB</li>\n",
       "</ul>\n",
       "</td>\n",
       "</tr>\n",
       "</table>"
      ],
      "text/plain": [
       "<Client: 'tcp://127.0.0.1:51251' processes=4 threads=4, memory=8.59 GB>"
      ]
     },
     "execution_count": 73,
     "metadata": {},
     "output_type": "execute_result"
    }
   ],
   "source": [
    "from dask.distributed import Client, progress\n",
    "# client = Client(n_workers=2, threads_per_worker=2, memory='2GB')\n",
    "client= Client()\n",
    "client\n"
   ]
  },
  {
   "cell_type": "code",
   "execution_count": 74,
   "metadata": {},
   "outputs": [],
   "source": [
    "# Create dask dataframe from pandas\n",
    "# Split dataframe\n",
    "import dask.dataframe as dd\n",
    "dask_df = dd.from_pandas(df, npartitions=4)\n",
    "\n"
   ]
  },
  {
   "cell_type": "code",
   "execution_count": 75,
   "metadata": {},
   "outputs": [],
   "source": [
    "\n",
    "X = dask_df['review'].values\n",
    "ylabels = dask_df['is_positive'].values\n"
   ]
  },
  {
   "cell_type": "code",
   "execution_count": 76,
   "metadata": {},
   "outputs": [
    {
     "name": "stdout",
     "output_type": "stream",
     "text": [
      "<class 'dask.array.core.Array'>\n",
      "<class 'numpy.ndarray'>\n"
     ]
    }
   ],
   "source": [
    "print(type(X))\n",
    "print(type(X.compute()))"
   ]
  },
  {
   "cell_type": "code",
   "execution_count": 77,
   "metadata": {},
   "outputs": [],
   "source": [
    "X = X.compute()\n",
    "ylabels = ylabels.compute()"
   ]
  },
  {
   "cell_type": "code",
   "execution_count": 78,
   "metadata": {},
   "outputs": [
    {
     "name": "stdout",
     "output_type": "stream",
     "text": [
      "<class 'numpy.ndarray'>\n",
      "(100000,)\n",
      "[1 0 1 ... 0 1 0]\n"
     ]
    }
   ],
   "source": [
    "print(type(ylabels))\n",
    "print(ylabels.shape)\n",
    "print(ylabels)"
   ]
  },
  {
   "cell_type": "code",
   "execution_count": 79,
   "metadata": {},
   "outputs": [],
   "source": [
    "from dask_ml.model_selection import train_test_split\n",
    "x_train, x_test, y_train, y_test = train_test_split(X, ylabels, test_size=0.2, random_state=5)\n"
   ]
  },
  {
   "cell_type": "code",
   "execution_count": 80,
   "metadata": {},
   "outputs": [
    {
     "name": "stdout",
     "output_type": "stream",
     "text": [
      "(80000,)\n",
      "(80000,)\n"
     ]
    }
   ],
   "source": [
    "print(y_train.shape)\n",
    "print(x_train.shape)"
   ]
  },
  {
   "cell_type": "code",
   "execution_count": 81,
   "metadata": {},
   "outputs": [],
   "source": [
    "import dask.bag as db\n",
    "x_train = db.from_sequence(x_train, npartitions=2)\n",
    "x_test = db.from_sequence(x_test, npartitions=2)"
   ]
  },
  {
   "cell_type": "code",
   "execution_count": 82,
   "metadata": {},
   "outputs": [
    {
     "name": "stdout",
     "output_type": "stream",
     "text": [
      "dask.bag<from_sequence, npartitions=2>\n",
      "<class 'numpy.ndarray'>\n",
      "(80000,)\n"
     ]
    }
   ],
   "source": [
    "print(x_train)\n",
    "print(type(y_train))\n",
    "print(y_train.shape)"
   ]
  },
  {
   "cell_type": "code",
   "execution_count": 83,
   "metadata": {},
   "outputs": [],
   "source": [
    "import dask_ml.feature_extraction.text\n",
    "vect = dask_ml.feature_extraction.text.HashingVectorizer(n_features=1000, ngram_range=(1,2))\n",
    "from dask_ml.feature_extraction.text import CountVectorizer\n",
    "vect2 = CountVectorizer()\n",
    "# train = vect.fit_transform(x_train)\n",
    "# train"
   ]
  },
  {
   "cell_type": "code",
   "execution_count": 84,
   "metadata": {},
   "outputs": [],
   "source": [
    "# train.compute()\n",
    "# train.compute_chunk_sizes()"
   ]
  },
  {
   "cell_type": "code",
   "execution_count": 85,
   "metadata": {},
   "outputs": [
    {
     "data": {
      "text/plain": [
       "Pipeline(steps=[('vectorizer',\n",
       "                 HashingVectorizer(n_features=1000, ngram_range=(1, 2)))])"
      ]
     },
     "execution_count": 85,
     "metadata": {},
     "output_type": "execute_result"
    }
   ],
   "source": [
    "# Build Model\n",
    "\n",
    "import sklearn.pipeline as ppl\n",
    "\n",
    "\n",
    "# model = ppl.Pipeline([(\"vectorizer\", vect), (\"classifier\", classifier)])\n",
    "pipeline = ppl.Pipeline([(\"vectorizer\", vect)])\n",
    "pipeline_model_train = pipeline.fit(x_train)\n",
    "pipeline_model_test = pipeline.fit(x_test)\n",
    "pipeline_model_train\n",
    "pipeline_model_test"
   ]
  },
  {
   "cell_type": "code",
   "execution_count": 86,
   "metadata": {},
   "outputs": [],
   "source": [
    "# Train Model\n",
    "# %time\n",
    "# train_model = model.fit(train, y_train)\n",
    "\n",
    "# pipeline_model.shape"
   ]
  },
  {
   "cell_type": "code",
   "execution_count": 87,
   "metadata": {},
   "outputs": [],
   "source": [
    "import pickle\n",
    "text_preprocess_pipe_train = pickle.dumps(pipeline_model_train)\n",
    "text_preprocess_pipe_test = pickle.dumps(pipeline_model_test)"
   ]
  },
  {
   "cell_type": "code",
   "execution_count": 88,
   "metadata": {},
   "outputs": [],
   "source": [
    "pipeline_model_train = pickle.loads(text_preprocess_pipe_train)\n",
    "pipeline_model_test = pickle.loads(text_preprocess_pipe_test)"
   ]
  },
  {
   "cell_type": "code",
   "execution_count": 89,
   "metadata": {},
   "outputs": [
    {
     "name": "stdout",
     "output_type": "stream",
     "text": [
      "CPU times: user 2 µs, sys: 1 µs, total: 3 µs\n",
      "Wall time: 5.96 µs\n"
     ]
    }
   ],
   "source": [
    "%time\n",
    "x_train_transformed = pipeline_model_train.transform(x_train)\n",
    "x_test_transformed = pipeline_model_test.transform(x_test)"
   ]
  },
  {
   "cell_type": "code",
   "execution_count": 90,
   "metadata": {},
   "outputs": [
    {
     "name": "stdout",
     "output_type": "stream",
     "text": [
      "(nan, 1000)\n",
      "(nan, 1000)\n"
     ]
    }
   ],
   "source": [
    "print(x_train_transformed.shape)\n",
    "print(x_test_transformed.shape)"
   ]
  },
  {
   "cell_type": "code",
   "execution_count": 91,
   "metadata": {},
   "outputs": [],
   "source": [
    "transformed_x_train  = x_train_transformed.compute()\n",
    "transformed_x_test  = x_test_transformed.compute()\n",
    "\n"
   ]
  },
  {
   "cell_type": "code",
   "execution_count": 92,
   "metadata": {},
   "outputs": [
    {
     "name": "stdout",
     "output_type": "stream",
     "text": [
      "(80000, 1000)\n",
      "(20000, 1000)\n"
     ]
    }
   ],
   "source": [
    "print(transformed_x_train.shape)\n",
    "print(transformed_x_test.shape)"
   ]
  },
  {
   "cell_type": "code",
   "execution_count": 93,
   "metadata": {},
   "outputs": [
    {
     "name": "stdout",
     "output_type": "stream",
     "text": [
      "(80000,)\n",
      "[0 1 1 ... 0 1 0]\n",
      "(20000,)\n",
      "[0 1 1 ... 0 1 0]\n"
     ]
    }
   ],
   "source": [
    "print(y_train.shape)\n",
    "print(y_train)\n",
    "print(y_test.shape)\n",
    "print(y_test)"
   ]
  },
  {
   "cell_type": "code",
   "execution_count": 103,
   "metadata": {},
   "outputs": [
    {
     "name": "stderr",
     "output_type": "stream",
     "text": [
      "distributed.nanny - WARNING - Worker exceeded 95% memory budget. Restarting\n",
      "distributed.nanny - WARNING - Restarting worker\n"
     ]
    },
    {
     "name": "stdout",
     "output_type": "stream",
     "text": [
      "CPU times: user 15.3 s, sys: 9.04 s, total: 24.3 s\n",
      "Wall time: 1min 14s\n"
     ]
    }
   ],
   "source": [
    "%%time\n",
    "import joblib\n",
    "from dask_ml.linear_model import LogisticRegression\n",
    "\n",
    "# classifier = LogisticRegression()\n",
    "# x_train_transformed.compute_chunk_sizes()\n",
    "\n",
    "classifier = LogisticRegression(fit_intercept=False)\n",
    "with joblib.parallel_backend('dask'):\n",
    "    model = classifier.fit(transformed_x_train.toarray(), y_train)"
   ]
  },
  {
   "cell_type": "code",
   "execution_count": 99,
   "metadata": {},
   "outputs": [
    {
     "name": "stdout",
     "output_type": "stream",
     "text": [
      "CPU times: user 92.1 ms, sys: 62.9 ms, total: 155 ms\n",
      "Wall time: 149 ms\n"
     ]
    },
    {
     "data": {
      "text/plain": [
       "array([False,  True,  True, ..., False,  True, False])"
      ]
     },
     "execution_count": 99,
     "metadata": {},
     "output_type": "execute_result"
    }
   ],
   "source": [
    "%%time\n",
    "predictions = model.predict(transformed_x_test.toarray())\n",
    "predictions"
   ]
  },
  {
   "cell_type": "code",
   "execution_count": 96,
   "metadata": {},
   "outputs": [
    {
     "name": "stdout",
     "output_type": "stream",
     "text": [
      "Accuracy: 0.88425 | Precision: 0.8923436688030487 | Recall: 0.9057582417582417\n",
      "F1 score: 0.8990009161903932\n",
      "AUC: 0.8808211498646281\n"
     ]
    }
   ],
   "source": [
    "from sklearn import metrics\n",
    "accuracy = metrics.accuracy_score(y_test, predictions)\n",
    "recall = metrics.recall_score(y_test, predictions)\n",
    "precision = metrics.precision_score(y_test, predictions)\n",
    "f1_score = 2 * (precision * recall) / (precision + recall)\n",
    "auc = metrics.roc_auc_score(y_test, predictions, multi_class=\"ovr\")\n",
    "\n",
    "cm = metrics.confusion_matrix(y_test, predictions)\n",
    "                            \n",
    "print(f\"Accuracy: {accuracy} | Precision: {precision} | Recall: {recall}\")\n",
    "print(f\"F1 score: {f1_score}\")\n",
    "print(f\"AUC: {auc}\")"
   ]
  },
  {
   "cell_type": "code",
   "execution_count": 97,
   "metadata": {},
   "outputs": [
    {
     "data": {
      "image/png": "[encoded data removed]",
      "text/plain": [
       "<Figure size 432x288 with 1 Axes>"
      ]
     },
     "metadata": {
      "needs_background": "light"
     },
     "output_type": "display_data"
    }
   ],
   "source": [
    "# plot confusion matrix\n",
    "import matplotlib.pyplot as plt\n",
    "import seaborn as sns\n",
    "\n",
    "classes = [0, 1]\n",
    "fig, ax = plt.subplots()\n",
    "sns.heatmap(cm, annot=True, fmt='d', ax=ax, cmap=plt.cm.PuRd, cbar=False)\n",
    "ax.set(xlabel=\"Predicted\",\n",
    "       ylabel=\"True\",\n",
    "       xticklabels=classes,\n",
    "       yticklabels=classes,\n",
    "       title=\"Confusion Matrix\")\n",
    "plt.yticks(rotation=0)\n",
    "plt.show()"
   ]
  },
  {
   "cell_type": "code",
   "execution_count": 98,
   "metadata": {},
   "outputs": [
    {
     "data": {
      "image/png": "[encoded data removed]",
      "text/plain": [
       "<Figure size 432x288 with 1 Axes>"
      ]
     },
     "metadata": {
      "needs_background": "light"
     },
     "output_type": "display_data"
    }
   ],
   "source": [
    "# plot roc curve\n",
    "\n",
    "fpr, tpr, threshold = metrics.roc_curve(y_test, predictions)\n",
    "roc_auc = metrics.auc(fpr, tpr)\n",
    "\n",
    "plt.title('ROC')\n",
    "plt.plot(fpr, tpr, 'b', label='AUC = %0.2f' % roc_auc)\n",
    "plt.legend(loc='lower right')\n",
    "plt.plot([0, 1], [0, 1], 'r--')\n",
    "plt.xlim([0, 1])\n",
    "plt.ylim([0, 1])\n",
    "plt.ylabel('True Positive Rate')\n",
    "plt.xlabel('False Positive Rate')\n",
    "plt.show()"
   ]
  },
  {
   "cell_type": "code",
   "execution_count": null,
   "metadata": {},
   "outputs": [],
   "source": []
  }
 ],
 "metadata": {
  "kernelspec": {
   "display_name": "Python 3",
   "language": "python",
   "name": "python3"
  },
  "language_info": {
   "codemirror_mode": {
    "name": "ipython",
    "version": 3
   },
   "file_extension": ".py",
   "mimetype": "text/x-python",
   "name": "python",
   "nbconvert_exporter": "python",
   "pygments_lexer": "ipython3",
   "version": "3.8.3"
  }
 },
 "nbformat": 4,
 "nbformat_minor": 4
}
