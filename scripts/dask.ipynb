{
 "cells": [
  {
   "cell_type": "code",
   "execution_count": 1,
   "metadata": {},
   "outputs": [
    {
     "name": "stdout",
     "output_type": "stream",
     "text": [
      "                        _id  index                       hotel_name  \\\n",
      "0  5ffd648c6fb44d5f602ea1be      0  \\nTower Suites by Blue Orchid\\n   \n",
      "1  5ffd648c6fb44d5f602ea1bf      1  \\nTower Suites by Blue Orchid\\n   \n",
      "2  5ffd648c6fb44d5f602ea1c0      2  \\nTower Suites by Blue Orchid\\n   \n",
      "3  5ffd648c6fb44d5f602ea1c1      3  \\nTower Suites by Blue Orchid\\n   \n",
      "4  5ffd648c6fb44d5f602ea1c2      4  \\nTower Suites by Blue Orchid\\n   \n",
      "\n",
      "               nation                                             review  \\\n",
      "0        \\n\\nMalaysia         everything absolutely beautiful clean love   \n",
      "1        \\n\\nMalaysia                       couldnt get room comfortable   \n",
      "2  \\n\\nUnited Kingdom  felt clean new lovely staff room really spacio...   \n",
      "3  \\n\\nUnited Kingdom  breakfast nice friendly helpful staff restaura...   \n",
      "4  \\n\\nUnited Kingdom      smoking area floor pay full english breakfast   \n",
      "\n",
      "   is_positive  score  \n",
      "0            1   10.0  \n",
      "1            0   10.0  \n",
      "2            1    9.0  \n",
      "3            1    9.0  \n",
      "4            0    9.0  \n"
     ]
    }
   ],
   "source": [
    "import sys\n",
    "sys.path.append('../')\n",
    "\n",
    "from util.mongodb_util import create_mongodb_connection, mongodb_to_df\n",
    "\n",
    "df_from_db = mongodb_to_df(100000)\n",
    "df = df_from_db.drop(columns=['_id'])\n",
    "print(df_from_db.head())"
   ]
  },
  {
   "cell_type": "code",
   "execution_count": 2,
   "metadata": {},
   "outputs": [
    {
     "data": {
      "text/html": [
       "<table style=\"border: 2px solid white;\">\n",
       "<tr>\n",
       "<td style=\"vertical-align: top; border: 0px solid white\">\n",
       "<h3 style=\"text-align: left;\">Client</h3>\n",
       "<ul style=\"text-align: left; list-style: none; margin: 0; padding: 0;\">\n",
       "  <li><b>Scheduler: </b>tcp://127.0.0.1:55246</li>\n",
       "  <li><b>Dashboard: </b><a href='http://127.0.0.1:8787/status' target='_blank'>http://127.0.0.1:8787/status</a></li>\n",
       "</ul>\n",
       "</td>\n",
       "<td style=\"vertical-align: top; border: 0px solid white\">\n",
       "<h3 style=\"text-align: left;\">Cluster</h3>\n",
       "<ul style=\"text-align: left; list-style:none; margin: 0; padding: 0;\">\n",
       "  <li><b>Workers: </b>2</li>\n",
       "  <li><b>Cores: </b>8</li>\n",
       "  <li><b>Memory: </b>17.18 GB</li>\n",
       "</ul>\n",
       "</td>\n",
       "</tr>\n",
       "</table>"
      ],
      "text/plain": [
       "<Client: 'tcp://127.0.0.1:55246' processes=2 threads=8, memory=17.18 GB>"
      ]
     },
     "execution_count": 2,
     "metadata": {},
     "output_type": "execute_result"
    }
   ],
   "source": [
    "from dask.distributed import Client, progress\n",
    "# client = Client(n_workers=4, threads_per_worker=1)\n",
    "# client= Client()\n",
    "client = Client(threads_per_worker=4, n_workers=2, memory_limit='32GB')\n",
    "client\n"
   ]
  },
  {
   "cell_type": "code",
   "execution_count": 3,
   "metadata": {},
   "outputs": [],
   "source": [
    "# Create dask dataframe from pandas\n",
    "# Split dataframe\n",
    "import dask.dataframe as dd\n",
    "dask_df = dd.from_pandas(df, npartitions=16)\n",
    "\n"
   ]
  },
  {
   "cell_type": "code",
   "execution_count": 4,
   "metadata": {},
   "outputs": [],
   "source": [
    "\n",
    "X = dask_df['review'].values\n",
    "ylabels = dask_df['is_positive'].values\n"
   ]
  },
  {
   "cell_type": "code",
   "execution_count": 5,
   "metadata": {},
   "outputs": [
    {
     "name": "stdout",
     "output_type": "stream",
     "text": [
      "<class 'dask.array.core.Array'>\n",
      "<class 'numpy.ndarray'>\n"
     ]
    }
   ],
   "source": [
    "print(type(X))\n",
    "print(type(X.compute()))"
   ]
  },
  {
   "cell_type": "code",
   "execution_count": 6,
   "metadata": {},
   "outputs": [],
   "source": [
    "X = X.compute()\n",
    "ylabels = ylabels.compute()"
   ]
  },
  {
   "cell_type": "code",
   "execution_count": 7,
   "metadata": {},
   "outputs": [
    {
     "name": "stdout",
     "output_type": "stream",
     "text": [
      "<class 'numpy.ndarray'>\n",
      "(100000,)\n",
      "[1 0 1 ... 0 1 0]\n"
     ]
    }
   ],
   "source": [
    "print(type(ylabels))\n",
    "print(ylabels.shape)\n",
    "print(ylabels)"
   ]
  },
  {
   "cell_type": "code",
   "execution_count": 8,
   "metadata": {},
   "outputs": [],
   "source": [
    "from dask_ml.model_selection import train_test_split\n",
    "x_train, x_test, y_train, y_test = train_test_split(X, ylabels, test_size=0.2, random_state=5)\n"
   ]
  },
  {
   "cell_type": "code",
   "execution_count": 9,
   "metadata": {},
   "outputs": [
    {
     "name": "stdout",
     "output_type": "stream",
     "text": [
      "(80000,)\n",
      "(80000,)\n"
     ]
    }
   ],
   "source": [
    "print(y_train.shape)\n",
    "print(x_train.shape)"
   ]
  },
  {
   "cell_type": "code",
   "execution_count": 10,
   "metadata": {},
   "outputs": [],
   "source": [
    "import dask.bag as db\n",
    "x_train = db.from_sequence(x_train, npartitions=16)\n",
    "x_test = db.from_sequence(x_test, npartitions=16)"
   ]
  },
  {
   "cell_type": "code",
   "execution_count": 11,
   "metadata": {},
   "outputs": [
    {
     "name": "stdout",
     "output_type": "stream",
     "text": [
      "dask.bag<from_sequence, npartitions=16>\n",
      "<class 'numpy.ndarray'>\n",
      "(80000,)\n"
     ]
    }
   ],
   "source": [
    "print(x_train)\n",
    "print(type(y_train))\n",
    "print(y_train.shape)"
   ]
  },
  {
   "cell_type": "code",
   "execution_count": 29,
   "metadata": {},
   "outputs": [],
   "source": [
    "import dask_ml.feature_extraction.text\n",
    "vect = dask_ml.feature_extraction.text.HashingVectorizer(n_features=1000, ngram_range=(1,1))"
   ]
  },
  {
   "cell_type": "code",
   "execution_count": 30,
   "metadata": {},
   "outputs": [
    {
     "data": {
      "text/plain": [
       "Pipeline(steps=[('vectorizer', HashingVectorizer(n_features=1000))])"
      ]
     },
     "execution_count": 30,
     "metadata": {},
     "output_type": "execute_result"
    }
   ],
   "source": [
    "# Build Model\n",
    "\n",
    "import sklearn.pipeline as ppl\n",
    "\n",
    "\n",
    "# model = ppl.Pipeline([(\"vectorizer\", vect), (\"classifier\", classifier)])\n",
    "pipeline = ppl.Pipeline([(\"vectorizer\", vect)])\n",
    "pipeline_model_train = pipeline.fit(x_train)\n",
    "pipeline_model_test = pipeline.fit(x_test)\n",
    "pipeline_model_train\n",
    "pipeline_model_test"
   ]
  },
  {
   "cell_type": "code",
   "execution_count": 31,
   "metadata": {},
   "outputs": [],
   "source": [
    "import pickle\n",
    "text_preprocess_pipe_train = pickle.dumps(pipeline_model_train)\n",
    "text_preprocess_pipe_test = pickle.dumps(pipeline_model_test)"
   ]
  },
  {
   "cell_type": "code",
   "execution_count": 32,
   "metadata": {},
   "outputs": [],
   "source": [
    "pipeline_model_train = pickle.loads(text_preprocess_pipe_train)\n",
    "pipeline_model_test = pickle.loads(text_preprocess_pipe_test)"
   ]
  },
  {
   "cell_type": "code",
   "execution_count": 33,
   "metadata": {},
   "outputs": [
    {
     "name": "stdout",
     "output_type": "stream",
     "text": [
      "CPU times: user 2 µs, sys: 1e+03 ns, total: 3 µs\n",
      "Wall time: 5.01 µs\n"
     ]
    }
   ],
   "source": [
    "%time\n",
    "x_train_transformed = pipeline_model_train.transform(x_train)\n",
    "x_test_transformed = pipeline_model_test.transform(x_test)"
   ]
  },
  {
   "cell_type": "code",
   "execution_count": 34,
   "metadata": {},
   "outputs": [
    {
     "name": "stdout",
     "output_type": "stream",
     "text": [
      "(nan, 1000)\n",
      "(nan, 1000)\n"
     ]
    }
   ],
   "source": [
    "print(x_train_transformed.shape)\n",
    "print(x_test_transformed.shape)"
   ]
  },
  {
   "cell_type": "code",
   "execution_count": 35,
   "metadata": {},
   "outputs": [],
   "source": [
    "transformed_x_train  = x_train_transformed.compute()\n",
    "transformed_x_test  = x_test_transformed.compute()"
   ]
  },
  {
   "cell_type": "code",
   "execution_count": 36,
   "metadata": {},
   "outputs": [
    {
     "name": "stdout",
     "output_type": "stream",
     "text": [
      "<class 'scipy.sparse.csr.csr_matrix'>\n",
      "(80000, 1000)\n",
      "(20000, 1000)\n"
     ]
    }
   ],
   "source": [
    "print(type(transformed_x_train))\n",
    "print(transformed_x_train.shape)\n",
    "print(transformed_x_test.shape)"
   ]
  },
  {
   "cell_type": "code",
   "execution_count": 37,
   "metadata": {},
   "outputs": [
    {
     "name": "stdout",
     "output_type": "stream",
     "text": [
      "(80000,)\n",
      "[0 1 1 ... 0 1 0]\n",
      "(20000,)\n",
      "[0 1 1 ... 0 1 0]\n"
     ]
    }
   ],
   "source": [
    "print(y_train.shape)\n",
    "print(y_train)\n",
    "print(y_test.shape)\n",
    "print(y_test)"
   ]
  },
  {
   "cell_type": "code",
   "execution_count": 38,
   "metadata": {},
   "outputs": [
    {
     "name": "stdout",
     "output_type": "stream",
     "text": [
      "CPU times: user 3.62 s, sys: 5.43 s, total: 9.05 s\n",
      "Wall time: 40.9 s\n"
     ]
    }
   ],
   "source": [
    "%%time\n",
    "import joblib\n",
    "from dask_ml.linear_model import LogisticRegression\n",
    "\n",
    "classifier = LogisticRegression(fit_intercept=False, C=1.7)\n",
    "with joblib.parallel_backend('dask'):\n",
    "    model = classifier.fit(transformed_x_train.toarray(), y_train)"
   ]
  },
  {
   "cell_type": "code",
   "execution_count": 39,
   "metadata": {},
   "outputs": [
    {
     "name": "stdout",
     "output_type": "stream",
     "text": [
      "CPU times: user 77.7 ms, sys: 61.8 ms, total: 139 ms\n",
      "Wall time: 205 ms\n"
     ]
    },
    {
     "data": {
      "text/plain": [
       "array([False,  True,  True, ..., False,  True, False])"
      ]
     },
     "execution_count": 39,
     "metadata": {},
     "output_type": "execute_result"
    }
   ],
   "source": [
    "%%time\n",
    "predictions = model.predict(transformed_x_test.toarray())\n",
    "predictions"
   ]
  },
  {
   "cell_type": "code",
   "execution_count": 40,
   "metadata": {},
   "outputs": [
    {
     "name": "stdout",
     "output_type": "stream",
     "text": [
      "<class 'numpy.ndarray'>\n",
      "<class 'numpy.ndarray'>\n"
     ]
    }
   ],
   "source": [
    "print(type(y_test))\n",
    "print(type(predictions))"
   ]
  },
  {
   "cell_type": "code",
   "execution_count": 41,
   "metadata": {},
   "outputs": [
    {
     "name": "stdout",
     "output_type": "stream",
     "text": [
      "Accuracy: 0.90355 | Precision: 0.9092720970537261 | Recall: 0.9224615384615384\n",
      "F1 score: 0.9158193323150773\n",
      "AUC: 0.9005351170568562\n"
     ]
    }
   ],
   "source": [
    "from sklearn import metrics\n",
    "accuracy = metrics.accuracy_score(y_test, predictions)\n",
    "recall = metrics.recall_score(y_test, predictions)\n",
    "precision = metrics.precision_score(y_test, predictions)\n",
    "f1_score = 2 * (precision * recall) / (precision + recall)\n",
    "auc = metrics.roc_auc_score(y_test, predictions, multi_class=\"ovr\")\n",
    "\n",
    "cm = metrics.confusion_matrix(y_test, predictions)\n",
    "                            \n",
    "print(f\"Accuracy: {accuracy} | Precision: {precision} | Recall: {recall}\")\n",
    "print(f\"F1 score: {f1_score}\")\n",
    "print(f\"AUC: {auc}\")"
   ]
  },
  {
   "cell_type": "code",
   "execution_count": 42,
   "metadata": {},
   "outputs": [
    {
     "data": {
      "image/png": "[encoded data removed]",
      "text/plain": [
       "<Figure size 432x288 with 1 Axes>"
      ]
     },
     "metadata": {
      "needs_background": "light"
     },
     "output_type": "display_data"
    }
   ],
   "source": [
    "# plot confusion matrix\n",
    "import matplotlib.pyplot as plt\n",
    "import seaborn as sns\n",
    "\n",
    "classes = [0, 1]\n",
    "fig, ax = plt.subplots()\n",
    "sns.heatmap(cm, annot=True, fmt='d', ax=ax, cmap=plt.cm.PuRd, cbar=False)\n",
    "ax.set(xlabel=\"Predicted\",\n",
    "       ylabel=\"True\",\n",
    "       xticklabels=classes,\n",
    "       yticklabels=classes,\n",
    "       title=\"Confusion Matrix\")\n",
    "plt.yticks(rotation=0)\n",
    "plt.show()"
   ]
  },
  {
   "cell_type": "code",
   "execution_count": 43,
   "metadata": {},
   "outputs": [
    {
     "data": {
      "image/png": "[encoded data removed]",
      "text/plain": [
       "<Figure size 432x288 with 1 Axes>"
      ]
     },
     "metadata": {
      "needs_background": "light"
     },
     "output_type": "display_data"
    }
   ],
   "source": [
    "# plot roc curve\n",
    "\n",
    "fpr, tpr, threshold = metrics.roc_curve(y_test, predictions)\n",
    "roc_auc = metrics.auc(fpr, tpr)\n",
    "\n",
    "plt.title('ROC')\n",
    "plt.plot(fpr, tpr, 'b', label='AUC = %0.2f' % roc_auc)\n",
    "plt.legend(loc='lower right')\n",
    "plt.plot([0, 1], [0, 1], 'r--')\n",
    "plt.xlim([0, 1])\n",
    "plt.ylim([0, 1])\n",
    "plt.ylabel('True Positive Rate')\n",
    "plt.xlabel('False Positive Rate')\n",
    "plt.show()"
   ]
  },
  {
   "cell_type": "code",
   "execution_count": null,
   "metadata": {},
   "outputs": [],
   "source": []
  },
  {
   "cell_type": "code",
   "execution_count": null,
   "metadata": {},
   "outputs": [],
   "source": []
  }
 ],
 "metadata": {
  "kernelspec": {
   "display_name": "Python 3",
   "language": "python",
   "name": "python3"
  },
  "language_info": {
   "codemirror_mode": {
    "name": "ipython",
    "version": 3
   },
   "file_extension": ".py",
   "mimetype": "text/x-python",
   "name": "python",
   "nbconvert_exporter": "python",
   "pygments_lexer": "ipython3",
   "version": "3.8.3"
  }
 },
 "nbformat": 4,
 "nbformat_minor": 4
}
